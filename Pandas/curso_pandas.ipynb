{
 "cells": [
  {
   "cell_type": "markdown",
   "id": "2b18fb17",
   "metadata": {},
   "source": [
    "# 1. ¿Qué es Pandas?\n",
    "\n",
    "Pandas es una librería del lenguaje de programación Python que sirve para la manipulación y el análisis de datos. El nombre proviene de \"panel data\".\n",
    "\n",
    "Pandas tiene numerosas funcionalidades que la hacen una de las mejores opciones para trabajar con datos, entre otras:\n",
    "\n",
    "* Métodos integrados para la manipulación rápida de datos.\n",
    "* Gestión de datos incompletos\n",
    "* Segmentación\n",
    "* Inserción y eliminación de columnas\n",
    "* Mezcla y unión de datos\n",
    "* Series temporales\n",
    "\n",
    "La web del proyecto donde podremos encontrar la documentación es https://pandas.pydata.org/"
   ]
  },
  {
   "cell_type": "code",
   "execution_count": 1,
   "id": "643b3b62",
   "metadata": {},
   "outputs": [],
   "source": [
    "# Para importar pandas en un proyecto\n",
    "\n",
    "import pandas as pd"
   ]
  },
  {
   "cell_type": "code",
   "execution_count": 2,
   "id": "dfe079d3",
   "metadata": {},
   "outputs": [],
   "source": [
    "# Para importar numpy en un proyecto\n",
    "\n",
    "import numpy as np"
   ]
  },
  {
   "cell_type": "markdown",
   "id": "b06bbbaa",
   "metadata": {},
   "source": [
    "# 2. Tipos de datos en Pandas\n",
    "\n",
    "Existen dos tipos de datos dentro de pandas, las series y los dataframes.\n",
    "\n",
    "## [Series](https://pandas.pydata.org/docs/reference/api/pandas.Series.html)\n",
    "\n",
    "Una serie en Pandas es un array unidimensional. Contiene cualquier tipo de dato soportado en Python y utiliza etiquetas para localizar cada valor de datos para su recuperación. Estas etiquetas forman el índice, y pueden ser incluir cadenas o números enteros. Una Serie es la principal estructura de datos en el framework de pandas para almacenar datos unidimensionales."
   ]
  },
  {
   "cell_type": "code",
   "execution_count": 3,
   "id": "eec0236f",
   "metadata": {},
   "outputs": [
    {
     "data": {
      "text/plain": [
       "Madrid       100\n",
       "Huelva        20\n",
       "Sevilla       50\n",
       "Barcelona     80\n",
       "Bilbao        44\n",
       "dtype: int64"
      ]
     },
     "execution_count": 3,
     "metadata": {},
     "output_type": "execute_result"
    }
   ],
   "source": [
    "# Para crear una serie usamos\n",
    "pd.Series\n",
    "\n",
    "# Crear serie desde un diccionario\n",
    "mi_diccionario = {\"Madrid\" : 100, \"Huelva\": 20, \"Sevilla\": 50, \"Barcelona\": 80, \"Bilbao\": 44}\n",
    "s_ciudades = pd.Series(data=mi_diccionario)\n",
    "s_ciudades"
   ]
  },
  {
   "cell_type": "code",
   "execution_count": 4,
   "id": "42f46167",
   "metadata": {},
   "outputs": [
    {
     "data": {
      "text/plain": [
       "0    100\n",
       "1     20\n",
       "2     50\n",
       "3     80\n",
       "4     44\n",
       "dtype: int64"
      ]
     },
     "execution_count": 4,
     "metadata": {},
     "output_type": "execute_result"
    }
   ],
   "source": [
    "# Crear serie desde listas\n",
    "mi_lista = [100, 20, 50, 80, 44]\n",
    "s_ciudades = pd.Series(data=mi_lista)\n",
    "s_ciudades"
   ]
  },
  {
   "cell_type": "code",
   "execution_count": 5,
   "id": "c8934a7b",
   "metadata": {},
   "outputs": [
    {
     "data": {
      "text/plain": [
       "Madrid       100\n",
       "Huelva        20\n",
       "Sevilla       50\n",
       "Barcelona     80\n",
       "Bilbao        44\n",
       "dtype: int64"
      ]
     },
     "execution_count": 5,
     "metadata": {},
     "output_type": "execute_result"
    }
   ],
   "source": [
    "s_ciudades.index = [\"Madrid\", \"Huelva\", \"Sevilla\", \"Barcelona\", \"Bilbao\"]\n",
    "s_ciudades"
   ]
  },
  {
   "cell_type": "markdown",
   "id": "7978e3b0",
   "metadata": {},
   "source": [
    "### Atributos de la serie"
   ]
  },
  {
   "cell_type": "code",
   "execution_count": 6,
   "id": "5a271e96",
   "metadata": {},
   "outputs": [
    {
     "data": {
      "text/plain": [
       "dtype('int64')"
      ]
     },
     "execution_count": 6,
     "metadata": {},
     "output_type": "execute_result"
    }
   ],
   "source": [
    "# Tipo de dato\n",
    "s_ciudades.dtype"
   ]
  },
  {
   "cell_type": "code",
   "execution_count": 7,
   "id": "7a665cc9",
   "metadata": {},
   "outputs": [
    {
     "data": {
      "text/plain": [
       "5"
      ]
     },
     "execution_count": 7,
     "metadata": {},
     "output_type": "execute_result"
    }
   ],
   "source": [
    "# Tamaño\n",
    "s_ciudades.size"
   ]
  },
  {
   "cell_type": "code",
   "execution_count": 8,
   "id": "9b1b6eeb",
   "metadata": {},
   "outputs": [
    {
     "data": {
      "text/plain": [
       "Index(['Madrid', 'Huelva', 'Sevilla', 'Barcelona', 'Bilbao'], dtype='object')"
      ]
     },
     "execution_count": 8,
     "metadata": {},
     "output_type": "execute_result"
    }
   ],
   "source": [
    "# Índices\n",
    "s_ciudades.index"
   ]
  },
  {
   "cell_type": "markdown",
   "id": "54542208",
   "metadata": {},
   "source": [
    "### Acceso a los datos de la serie"
   ]
  },
  {
   "cell_type": "code",
   "execution_count": 9,
   "id": "3509744e",
   "metadata": {},
   "outputs": [
    {
     "data": {
      "text/plain": [
       "100"
      ]
     },
     "execution_count": 9,
     "metadata": {},
     "output_type": "execute_result"
    }
   ],
   "source": [
    "# Por número entero\n",
    "s_ciudades[0]"
   ]
  },
  {
   "cell_type": "code",
   "execution_count": 10,
   "id": "3f16d842",
   "metadata": {},
   "outputs": [
    {
     "data": {
      "text/plain": [
       "Huelva       20\n",
       "Sevilla      50\n",
       "Barcelona    80\n",
       "dtype: int64"
      ]
     },
     "execution_count": 10,
     "metadata": {},
     "output_type": "execute_result"
    }
   ],
   "source": [
    "# Varios valores por número entero\n",
    "s_ciudades[1:4]"
   ]
  },
  {
   "cell_type": "code",
   "execution_count": 11,
   "id": "f1d22a78",
   "metadata": {},
   "outputs": [
    {
     "data": {
      "text/plain": [
       "20"
      ]
     },
     "execution_count": 11,
     "metadata": {},
     "output_type": "execute_result"
    }
   ],
   "source": [
    "# Por valor del índice\n",
    "s_ciudades[\"Huelva\"]"
   ]
  },
  {
   "cell_type": "code",
   "execution_count": 12,
   "id": "b4960ca5",
   "metadata": {},
   "outputs": [
    {
     "data": {
      "text/plain": [
       "Huelva     20\n",
       "Madrid    100\n",
       "dtype: int64"
      ]
     },
     "execution_count": 12,
     "metadata": {},
     "output_type": "execute_result"
    }
   ],
   "source": [
    "# Varios valores por valor del índice\n",
    "s_ciudades[[\"Huelva\", \"Madrid\"]]"
   ]
  },
  {
   "cell_type": "markdown",
   "id": "eed6b71e",
   "metadata": {},
   "source": [
    "### Estadísticos descriptivos de una serie"
   ]
  },
  {
   "cell_type": "code",
   "execution_count": 13,
   "id": "5481ca90",
   "metadata": {},
   "outputs": [
    {
     "data": {
      "text/plain": [
       "5"
      ]
     },
     "execution_count": 13,
     "metadata": {},
     "output_type": "execute_result"
    }
   ],
   "source": [
    "# Número de elementos que no son NaN\n",
    "s_ciudades.count()"
   ]
  },
  {
   "cell_type": "code",
   "execution_count": 14,
   "id": "e445611f",
   "metadata": {
    "scrolled": true
   },
   "outputs": [
    {
     "data": {
      "text/plain": [
       "294"
      ]
     },
     "execution_count": 14,
     "metadata": {},
     "output_type": "execute_result"
    }
   ],
   "source": [
    "# Suma de los datos (datos numéricos) o concatenación (cadenas)\n",
    "s_ciudades.sum()"
   ]
  },
  {
   "cell_type": "code",
   "execution_count": 15,
   "id": "3051d0dd",
   "metadata": {},
   "outputs": [
    {
     "data": {
      "text/plain": [
       "Madrid       100\n",
       "Huelva       120\n",
       "Sevilla      170\n",
       "Barcelona    250\n",
       "Bilbao       294\n",
       "dtype: int64"
      ]
     },
     "execution_count": 15,
     "metadata": {},
     "output_type": "execute_result"
    }
   ],
   "source": [
    "# Suma acumulativa (sólo datos numéricos)\n",
    "s_ciudades.cumsum()"
   ]
  },
  {
   "cell_type": "code",
   "execution_count": 16,
   "id": "f1f39f8f",
   "metadata": {},
   "outputs": [
    {
     "data": {
      "text/plain": [
       "100    1\n",
       "20     1\n",
       "50     1\n",
       "80     1\n",
       "44     1\n",
       "dtype: int64"
      ]
     },
     "execution_count": 16,
     "metadata": {},
     "output_type": "execute_result"
    }
   ],
   "source": [
    "# Obtener frecuencia de cada valor de la serie\n",
    "s_ciudades.value_counts()"
   ]
  },
  {
   "cell_type": "code",
   "execution_count": 17,
   "id": "1a524e92",
   "metadata": {},
   "outputs": [
    {
     "data": {
      "text/plain": [
       "20"
      ]
     },
     "execution_count": 17,
     "metadata": {},
     "output_type": "execute_result"
    }
   ],
   "source": [
    "# Obtener el menor valor de los datos de la serie (sólo datos numéricos)\n",
    "s_ciudades.min()"
   ]
  },
  {
   "cell_type": "code",
   "execution_count": 18,
   "id": "43be4ac8",
   "metadata": {},
   "outputs": [
    {
     "data": {
      "text/plain": [
       "100"
      ]
     },
     "execution_count": 18,
     "metadata": {},
     "output_type": "execute_result"
    }
   ],
   "source": [
    "# Obtener el mayor valor de los datos de la serie (sólo datos numéricos)\n",
    "s_ciudades.max()"
   ]
  },
  {
   "cell_type": "code",
   "execution_count": 19,
   "id": "1345c4ed",
   "metadata": {},
   "outputs": [
    {
     "data": {
      "text/plain": [
       "58.8"
      ]
     },
     "execution_count": 19,
     "metadata": {},
     "output_type": "execute_result"
    }
   ],
   "source": [
    "# Obtener la media del valor de los datos de la serie (sólo datos numéricos)\n",
    "s_ciudades.mean()"
   ]
  },
  {
   "cell_type": "code",
   "execution_count": 20,
   "id": "b33b5263",
   "metadata": {},
   "outputs": [
    {
     "data": {
      "text/plain": [
       "31.41973901864877"
      ]
     },
     "execution_count": 20,
     "metadata": {},
     "output_type": "execute_result"
    }
   ],
   "source": [
    "# Obtener la desviación típica de lso datos de la serie (sólo datos numéricos)\n",
    "s_ciudades.std()"
   ]
  },
  {
   "cell_type": "code",
   "execution_count": 21,
   "id": "2fd7d43d",
   "metadata": {},
   "outputs": [
    {
     "data": {
      "text/plain": [
       "count      5.000000\n",
       "mean      58.800000\n",
       "std       31.419739\n",
       "min       20.000000\n",
       "25%       44.000000\n",
       "50%       50.000000\n",
       "75%       80.000000\n",
       "max      100.000000\n",
       "dtype: float64"
      ]
     },
     "execution_count": 21,
     "metadata": {},
     "output_type": "execute_result"
    }
   ],
   "source": [
    "# Obtener estadísticos descriptivos de la serie\n",
    "s_ciudades.describe()"
   ]
  },
  {
   "cell_type": "markdown",
   "id": "5c32a8d6",
   "metadata": {},
   "source": [
    "### Operadores\n",
    "\n",
    "Los operadores de python tanto aritméticos (+, -, *, /, **, % , y //) como relacionales (>, <, ==, >=, <= y !=) pueden usarse para hacer operaciones con una serie"
   ]
  },
  {
   "cell_type": "code",
   "execution_count": 22,
   "id": "01430a46",
   "metadata": {},
   "outputs": [
    {
     "data": {
      "text/plain": [
       "Madrid       1100\n",
       "Huelva       1020\n",
       "Sevilla      1050\n",
       "Barcelona    1080\n",
       "Bilbao       1044\n",
       "dtype: int64"
      ]
     },
     "execution_count": 22,
     "metadata": {},
     "output_type": "execute_result"
    }
   ],
   "source": [
    "s_ciudades + 1000"
   ]
  },
  {
   "cell_type": "code",
   "execution_count": 23,
   "id": "7d2582ab",
   "metadata": {},
   "outputs": [
    {
     "data": {
      "text/plain": [
       "Madrid       90\n",
       "Huelva       10\n",
       "Sevilla      40\n",
       "Barcelona    70\n",
       "Bilbao       34\n",
       "dtype: int64"
      ]
     },
     "execution_count": 23,
     "metadata": {},
     "output_type": "execute_result"
    }
   ],
   "source": [
    "s_ciudades - 10"
   ]
  },
  {
   "cell_type": "code",
   "execution_count": 24,
   "id": "7552d816",
   "metadata": {},
   "outputs": [
    {
     "data": {
      "text/plain": [
       "Madrid       33.333333\n",
       "Huelva        6.666667\n",
       "Sevilla      16.666667\n",
       "Barcelona    26.666667\n",
       "Bilbao       14.666667\n",
       "dtype: float64"
      ]
     },
     "execution_count": 24,
     "metadata": {},
     "output_type": "execute_result"
    }
   ],
   "source": [
    "s_ciudades / 3"
   ]
  },
  {
   "cell_type": "code",
   "execution_count": 25,
   "id": "6eaa7fbe",
   "metadata": {},
   "outputs": [
    {
     "data": {
      "text/plain": [
       "Madrid       10000\n",
       "Huelva         400\n",
       "Sevilla       2500\n",
       "Barcelona     6400\n",
       "Bilbao        1936\n",
       "dtype: int64"
      ]
     },
     "execution_count": 25,
     "metadata": {},
     "output_type": "execute_result"
    }
   ],
   "source": [
    "s_ciudades ** 2"
   ]
  },
  {
   "cell_type": "code",
   "execution_count": 26,
   "id": "dc19fe97",
   "metadata": {},
   "outputs": [
    {
     "data": {
      "text/plain": [
       "Madrid        True\n",
       "Huelva       False\n",
       "Sevilla      False\n",
       "Barcelona    False\n",
       "Bilbao       False\n",
       "dtype: bool"
      ]
     },
     "execution_count": 26,
     "metadata": {},
     "output_type": "execute_result"
    }
   ],
   "source": [
    "s_ciudades > 80"
   ]
  },
  {
   "cell_type": "code",
   "execution_count": 27,
   "id": "c2d1ccd4",
   "metadata": {},
   "outputs": [
    {
     "data": {
      "text/plain": [
       "Madrid       False\n",
       "Huelva        True\n",
       "Sevilla      False\n",
       "Barcelona    False\n",
       "Bilbao       False\n",
       "dtype: bool"
      ]
     },
     "execution_count": 27,
     "metadata": {},
     "output_type": "execute_result"
    }
   ],
   "source": [
    "s_ciudades == 20"
   ]
  },
  {
   "cell_type": "markdown",
   "id": "f7002e99",
   "metadata": {},
   "source": [
    "### Funciones\n",
    "Se pueden aplicar funciones a cada elemento de la serie utilizando el método apply"
   ]
  },
  {
   "cell_type": "code",
   "execution_count": 28,
   "id": "117f2318",
   "metadata": {},
   "outputs": [
    {
     "data": {
      "text/plain": [
       "Madrid       10.000000\n",
       "Huelva        4.472136\n",
       "Sevilla       7.071068\n",
       "Barcelona     8.944272\n",
       "Bilbao        6.633250\n",
       "dtype: float64"
      ]
     },
     "execution_count": 28,
     "metadata": {},
     "output_type": "execute_result"
    }
   ],
   "source": [
    "from math import sqrt\n",
    "s_ciudades.apply(sqrt)"
   ]
  },
  {
   "cell_type": "markdown",
   "id": "40372ffe",
   "metadata": {},
   "source": [
    "También podremos aplicar nuestras propias funciones"
   ]
  },
  {
   "cell_type": "code",
   "execution_count": 29,
   "id": "00460a1b",
   "metadata": {},
   "outputs": [
    {
     "data": {
      "text/plain": [
       "Madrid       141.421356\n",
       "Huelva        28.284271\n",
       "Sevilla       70.710678\n",
       "Barcelona    113.137085\n",
       "Bilbao        62.225397\n",
       "dtype: float64"
      ]
     },
     "execution_count": 29,
     "metadata": {},
     "output_type": "execute_result"
    }
   ],
   "source": [
    "def get_hypotenuse_value(x):\n",
    "    return sqrt(2*x**2)\n",
    "\n",
    "s_ciudades.apply(get_hypotenuse_value)"
   ]
  },
  {
   "cell_type": "code",
   "execution_count": 30,
   "id": "d963dca3",
   "metadata": {},
   "outputs": [
    {
     "data": {
      "text/plain": [
       "Madrid       141.421356\n",
       "Huelva        28.284271\n",
       "Sevilla       70.710678\n",
       "Barcelona    113.137085\n",
       "Bilbao        62.225397\n",
       "dtype: float64"
      ]
     },
     "execution_count": 30,
     "metadata": {},
     "output_type": "execute_result"
    }
   ],
   "source": [
    "s_ciudades.apply(lambda x: sqrt(2*x**2))"
   ]
  },
  {
   "cell_type": "markdown",
   "id": "e37e4c5d",
   "metadata": {},
   "source": [
    "### Filtrar series\n",
    "\n",
    "Podemos filtrar los valores de la serie y quedarnos con aquellos que cumplen una determinada condición"
   ]
  },
  {
   "cell_type": "code",
   "execution_count": 31,
   "id": "485f6e5d",
   "metadata": {},
   "outputs": [
    {
     "data": {
      "text/plain": [
       "Huelva    20\n",
       "Bilbao    44\n",
       "dtype: int64"
      ]
     },
     "execution_count": 31,
     "metadata": {},
     "output_type": "execute_result"
    }
   ],
   "source": [
    "s_ciudades[s_ciudades < 50]"
   ]
  },
  {
   "cell_type": "markdown",
   "id": "42fbd959",
   "metadata": {},
   "source": [
    "### Eliminar NaNs"
   ]
  },
  {
   "cell_type": "code",
   "execution_count": 32,
   "id": "429aae40",
   "metadata": {},
   "outputs": [
    {
     "data": {
      "text/plain": [
       "Madrid       100.0\n",
       "Huelva        20.0\n",
       "Sevilla       50.0\n",
       "Barcelona     80.0\n",
       "Bilbao        44.0\n",
       "dtype: float64"
      ]
     },
     "execution_count": 32,
     "metadata": {},
     "output_type": "execute_result"
    }
   ],
   "source": [
    "s_ciudades = pd.Series(data={\"Madrid\" : 100, \n",
    "                             \"Huelva\": 20, \n",
    "                             \"Sevilla\": 50, \n",
    "                             \"Barcelona\": 80, \n",
    "                             \"Bilbao\": 44, \n",
    "                             \"Tarragona\": None,\n",
    "                             \"A Coruña\": np.NaN\n",
    "                            }\n",
    "                      )\n",
    "s_ciudades.dropna()"
   ]
  },
  {
   "cell_type": "markdown",
   "id": "80239e6e",
   "metadata": {},
   "source": [
    "## [Dataframe](https://pandas.pydata.org/docs/reference/api/pandas.DataFrame.html)\n",
    "\n",
    "Un Dataframe es una estructura de datos bidimensional etiquetada con columnas que pueden ser de tipos diferentes. Es parecido a una hoja de cálculo o una tabla SQL. Cada una de las columnas es una Serie. Es el objeto de la librería pandas más utilizado.\n",
    "\n",
    "![Estructura Dataframe](recursos/01_dataframe.png)\n",
    "\n",
    "[Gráfico extraído del curso de pandas de Juan Barrios](https://www.juanbarrios.com/curso-de-pandas-completo-desde-cero/)"
   ]
  },
  {
   "cell_type": "markdown",
   "id": "dc4c0277",
   "metadata": {},
   "source": [
    "### Creación de Dataframes\n",
    "\n",
    "Un Dataframe puede crearse a partir de diferentes elementos"
   ]
  },
  {
   "cell_type": "code",
   "execution_count": 33,
   "id": "edba536a",
   "metadata": {},
   "outputs": [
    {
     "data": {
      "text/html": [
       "<div>\n",
       "<style scoped>\n",
       "    .dataframe tbody tr th:only-of-type {\n",
       "        vertical-align: middle;\n",
       "    }\n",
       "\n",
       "    .dataframe tbody tr th {\n",
       "        vertical-align: top;\n",
       "    }\n",
       "\n",
       "    .dataframe thead th {\n",
       "        text-align: right;\n",
       "    }\n",
       "</style>\n",
       "<table border=\"1\" class=\"dataframe\">\n",
       "  <thead>\n",
       "    <tr style=\"text-align: right;\">\n",
       "      <th></th>\n",
       "      <th>ciudades</th>\n",
       "      <th>n_churrerias</th>\n",
       "      <th>habitantes</th>\n",
       "    </tr>\n",
       "  </thead>\n",
       "  <tbody>\n",
       "    <tr>\n",
       "      <th>0</th>\n",
       "      <td>Madrid</td>\n",
       "      <td>100</td>\n",
       "      <td>3223000</td>\n",
       "    </tr>\n",
       "    <tr>\n",
       "      <th>1</th>\n",
       "      <td>Huelva</td>\n",
       "      <td>20</td>\n",
       "      <td>144258</td>\n",
       "    </tr>\n",
       "    <tr>\n",
       "      <th>2</th>\n",
       "      <td>Sevilla</td>\n",
       "      <td>50</td>\n",
       "      <td>688711</td>\n",
       "    </tr>\n",
       "    <tr>\n",
       "      <th>3</th>\n",
       "      <td>Barcelona</td>\n",
       "      <td>80</td>\n",
       "      <td>1620000</td>\n",
       "    </tr>\n",
       "    <tr>\n",
       "      <th>4</th>\n",
       "      <td>Bilbao</td>\n",
       "      <td>44</td>\n",
       "      <td>345821</td>\n",
       "    </tr>\n",
       "  </tbody>\n",
       "</table>\n",
       "</div>"
      ],
      "text/plain": [
       "    ciudades  n_churrerias  habitantes\n",
       "0     Madrid           100     3223000\n",
       "1     Huelva            20      144258\n",
       "2    Sevilla            50      688711\n",
       "3  Barcelona            80     1620000\n",
       "4     Bilbao            44      345821"
      ]
     },
     "execution_count": 33,
     "metadata": {},
     "output_type": "execute_result"
    }
   ],
   "source": [
    "# Para crear un dataframe usamos\n",
    "pd.DataFrame\n",
    "\n",
    "# Crear DataFrame desde un diccionario de listas\n",
    "mi_dict_l = {\"ciudades\": [\"Madrid\", \"Huelva\", \"Sevilla\", \"Barcelona\", \"Bilbao\"], \n",
    "             \"n_churrerias\": [100, 20, 50, 80, 44],\n",
    "             \"habitantes\": [3223000, 144258, 688711, 1620000, 345821]\n",
    "            }\n",
    "df_c = pd.DataFrame(mi_dict_l)\n",
    "df_c"
   ]
  },
  {
   "cell_type": "code",
   "execution_count": 34,
   "id": "26306ec2",
   "metadata": {},
   "outputs": [
    {
     "data": {
      "text/html": [
       "<div>\n",
       "<style scoped>\n",
       "    .dataframe tbody tr th:only-of-type {\n",
       "        vertical-align: middle;\n",
       "    }\n",
       "\n",
       "    .dataframe tbody tr th {\n",
       "        vertical-align: top;\n",
       "    }\n",
       "\n",
       "    .dataframe thead th {\n",
       "        text-align: right;\n",
       "    }\n",
       "</style>\n",
       "<table border=\"1\" class=\"dataframe\">\n",
       "  <thead>\n",
       "    <tr style=\"text-align: right;\">\n",
       "      <th></th>\n",
       "      <th>ciudades</th>\n",
       "      <th>n_churrerias</th>\n",
       "      <th>habitantes</th>\n",
       "    </tr>\n",
       "  </thead>\n",
       "  <tbody>\n",
       "    <tr>\n",
       "      <th>0</th>\n",
       "      <td>Madrid</td>\n",
       "      <td>100</td>\n",
       "      <td>3223000</td>\n",
       "    </tr>\n",
       "    <tr>\n",
       "      <th>1</th>\n",
       "      <td>Huelva</td>\n",
       "      <td>20</td>\n",
       "      <td>144258</td>\n",
       "    </tr>\n",
       "    <tr>\n",
       "      <th>2</th>\n",
       "      <td>Sevilla</td>\n",
       "      <td>50</td>\n",
       "      <td>688711</td>\n",
       "    </tr>\n",
       "    <tr>\n",
       "      <th>3</th>\n",
       "      <td>Barcelona</td>\n",
       "      <td>80</td>\n",
       "      <td>1620000</td>\n",
       "    </tr>\n",
       "    <tr>\n",
       "      <th>4</th>\n",
       "      <td>Bilbao</td>\n",
       "      <td>44</td>\n",
       "      <td>345821</td>\n",
       "    </tr>\n",
       "  </tbody>\n",
       "</table>\n",
       "</div>"
      ],
      "text/plain": [
       "    ciudades  n_churrerias  habitantes\n",
       "0     Madrid           100     3223000\n",
       "1     Huelva            20      144258\n",
       "2    Sevilla            50      688711\n",
       "3  Barcelona            80     1620000\n",
       "4     Bilbao            44      345821"
      ]
     },
     "execution_count": 34,
     "metadata": {},
     "output_type": "execute_result"
    }
   ],
   "source": [
    "# Crear DataFrame desde una lista de listas\n",
    "mi_ls_l = [[\"Madrid\", 100, 3223000],\n",
    "           [\"Huelva\", 20, 144258],\n",
    "           [\"Sevilla\", 50, 688711],\n",
    "           [\"Barcelona\", 80, 1620000],\n",
    "           [\"Bilbao\", 44, 345821]\n",
    "          ]\n",
    "columnas = [\"ciudades\", \"n_churrerias\", \"habitantes\"]\n",
    "df_c = pd.DataFrame(mi_ls_l, columns=columnas)\n",
    "df_c"
   ]
  },
  {
   "cell_type": "code",
   "execution_count": 35,
   "id": "020c931e",
   "metadata": {},
   "outputs": [
    {
     "data": {
      "text/html": [
       "<div>\n",
       "<style scoped>\n",
       "    .dataframe tbody tr th:only-of-type {\n",
       "        vertical-align: middle;\n",
       "    }\n",
       "\n",
       "    .dataframe tbody tr th {\n",
       "        vertical-align: top;\n",
       "    }\n",
       "\n",
       "    .dataframe thead th {\n",
       "        text-align: right;\n",
       "    }\n",
       "</style>\n",
       "<table border=\"1\" class=\"dataframe\">\n",
       "  <thead>\n",
       "    <tr style=\"text-align: right;\">\n",
       "      <th></th>\n",
       "      <th>ciudades</th>\n",
       "      <th>n_churrerias</th>\n",
       "      <th>habitantes</th>\n",
       "    </tr>\n",
       "  </thead>\n",
       "  <tbody>\n",
       "    <tr>\n",
       "      <th>0</th>\n",
       "      <td>Madrid</td>\n",
       "      <td>100</td>\n",
       "      <td>3223000</td>\n",
       "    </tr>\n",
       "    <tr>\n",
       "      <th>1</th>\n",
       "      <td>Huelva</td>\n",
       "      <td>20</td>\n",
       "      <td>144258</td>\n",
       "    </tr>\n",
       "    <tr>\n",
       "      <th>2</th>\n",
       "      <td>Sevilla</td>\n",
       "      <td>50</td>\n",
       "      <td>688711</td>\n",
       "    </tr>\n",
       "    <tr>\n",
       "      <th>3</th>\n",
       "      <td>Barcelona</td>\n",
       "      <td>80</td>\n",
       "      <td>1620000</td>\n",
       "    </tr>\n",
       "    <tr>\n",
       "      <th>4</th>\n",
       "      <td>Bilbao</td>\n",
       "      <td>44</td>\n",
       "      <td>345821</td>\n",
       "    </tr>\n",
       "  </tbody>\n",
       "</table>\n",
       "</div>"
      ],
      "text/plain": [
       "    ciudades  n_churrerias  habitantes\n",
       "0     Madrid           100     3223000\n",
       "1     Huelva            20      144258\n",
       "2    Sevilla            50      688711\n",
       "3  Barcelona            80     1620000\n",
       "4     Bilbao            44      345821"
      ]
     },
     "execution_count": 35,
     "metadata": {},
     "output_type": "execute_result"
    }
   ],
   "source": [
    "# Crear DataFrame desde una lista de diccionarios\n",
    "mi_ls_dict = [{\"ciudades\": \"Madrid\", \"n_churrerias\": 100, \"habitantes\": 3223000},\n",
    "              {\"ciudades\": \"Huelva\", \"n_churrerias\": 20, \"habitantes\": 144258},\n",
    "              {\"ciudades\": \"Sevilla\", \"n_churrerias\": 50, \"habitantes\": 688711},\n",
    "              {\"ciudades\": \"Barcelona\", \"n_churrerias\": 80, \"habitantes\": 1620000},\n",
    "              {\"ciudades\": \"Bilbao\", \"n_churrerias\": 44, \"habitantes\": 345821},\n",
    "             ]\n",
    "\n",
    "df_c = pd.DataFrame(mi_ls_dict)\n",
    "df_c"
   ]
  },
  {
   "cell_type": "markdown",
   "id": "cc250977",
   "metadata": {},
   "source": [
    "#### [Crear DataFrame a partir de un fichero CSV](https://pandas.pydata.org/docs/reference/api/pandas.read_csv.html)"
   ]
  },
  {
   "cell_type": "code",
   "execution_count": 36,
   "id": "1dd08a70",
   "metadata": {},
   "outputs": [
    {
     "data": {
      "text/html": [
       "<div>\n",
       "<style scoped>\n",
       "    .dataframe tbody tr th:only-of-type {\n",
       "        vertical-align: middle;\n",
       "    }\n",
       "\n",
       "    .dataframe tbody tr th {\n",
       "        vertical-align: top;\n",
       "    }\n",
       "\n",
       "    .dataframe thead th {\n",
       "        text-align: right;\n",
       "    }\n",
       "</style>\n",
       "<table border=\"1\" class=\"dataframe\">\n",
       "  <thead>\n",
       "    <tr style=\"text-align: right;\">\n",
       "      <th></th>\n",
       "      <th>ciudades</th>\n",
       "      <th>n_churrerias</th>\n",
       "      <th>habitantes</th>\n",
       "    </tr>\n",
       "  </thead>\n",
       "  <tbody>\n",
       "    <tr>\n",
       "      <th>0</th>\n",
       "      <td>Madrid</td>\n",
       "      <td>100</td>\n",
       "      <td>3223000</td>\n",
       "    </tr>\n",
       "    <tr>\n",
       "      <th>1</th>\n",
       "      <td>Huelva</td>\n",
       "      <td>20</td>\n",
       "      <td>144258</td>\n",
       "    </tr>\n",
       "    <tr>\n",
       "      <th>2</th>\n",
       "      <td>Sevilla</td>\n",
       "      <td>50</td>\n",
       "      <td>688711</td>\n",
       "    </tr>\n",
       "    <tr>\n",
       "      <th>3</th>\n",
       "      <td>Barcelona</td>\n",
       "      <td>80</td>\n",
       "      <td>1620000</td>\n",
       "    </tr>\n",
       "    <tr>\n",
       "      <th>4</th>\n",
       "      <td>Bilbao</td>\n",
       "      <td>44</td>\n",
       "      <td>345821</td>\n",
       "    </tr>\n",
       "  </tbody>\n",
       "</table>\n",
       "</div>"
      ],
      "text/plain": [
       "    ciudades  n_churrerias  habitantes\n",
       "0     Madrid           100     3223000\n",
       "1     Huelva            20      144258\n",
       "2    Sevilla            50      688711\n",
       "3  Barcelona            80     1620000\n",
       "4     Bilbao            44      345821"
      ]
     },
     "execution_count": 36,
     "metadata": {},
     "output_type": "execute_result"
    }
   ],
   "source": [
    "df_c = pd.read_csv(\"recursos/02_city_data.csv\", sep=\";\")\n",
    "df_c"
   ]
  },
  {
   "cell_type": "markdown",
   "id": "19fd7106",
   "metadata": {},
   "source": [
    "#### [Crear DataFrame a partir de un fichero Excel](https://pandas.pydata.org/docs/reference/api/pandas.read_excel.html)"
   ]
  },
  {
   "cell_type": "code",
   "execution_count": 37,
   "id": "6ff33062",
   "metadata": {},
   "outputs": [
    {
     "data": {
      "text/html": [
       "<div>\n",
       "<style scoped>\n",
       "    .dataframe tbody tr th:only-of-type {\n",
       "        vertical-align: middle;\n",
       "    }\n",
       "\n",
       "    .dataframe tbody tr th {\n",
       "        vertical-align: top;\n",
       "    }\n",
       "\n",
       "    .dataframe thead th {\n",
       "        text-align: right;\n",
       "    }\n",
       "</style>\n",
       "<table border=\"1\" class=\"dataframe\">\n",
       "  <thead>\n",
       "    <tr style=\"text-align: right;\">\n",
       "      <th></th>\n",
       "      <th>ciudades</th>\n",
       "      <th>n_churrerias</th>\n",
       "      <th>habitantes</th>\n",
       "    </tr>\n",
       "  </thead>\n",
       "  <tbody>\n",
       "    <tr>\n",
       "      <th>0</th>\n",
       "      <td>Madrid</td>\n",
       "      <td>100</td>\n",
       "      <td>3223000</td>\n",
       "    </tr>\n",
       "    <tr>\n",
       "      <th>1</th>\n",
       "      <td>Huelva</td>\n",
       "      <td>20</td>\n",
       "      <td>144258</td>\n",
       "    </tr>\n",
       "    <tr>\n",
       "      <th>2</th>\n",
       "      <td>Sevilla</td>\n",
       "      <td>50</td>\n",
       "      <td>688711</td>\n",
       "    </tr>\n",
       "    <tr>\n",
       "      <th>3</th>\n",
       "      <td>Barcelona</td>\n",
       "      <td>80</td>\n",
       "      <td>1620000</td>\n",
       "    </tr>\n",
       "    <tr>\n",
       "      <th>4</th>\n",
       "      <td>Bilbao</td>\n",
       "      <td>44</td>\n",
       "      <td>345821</td>\n",
       "    </tr>\n",
       "  </tbody>\n",
       "</table>\n",
       "</div>"
      ],
      "text/plain": [
       "    ciudades  n_churrerias  habitantes\n",
       "0     Madrid           100     3223000\n",
       "1     Huelva            20      144258\n",
       "2    Sevilla            50      688711\n",
       "3  Barcelona            80     1620000\n",
       "4     Bilbao            44      345821"
      ]
     },
     "execution_count": 37,
     "metadata": {},
     "output_type": "execute_result"
    }
   ],
   "source": [
    "df_c = pd.read_excel(\"recursos/03_city_data.xlsx\")\n",
    "df_c"
   ]
  },
  {
   "cell_type": "markdown",
   "id": "3f57bb90",
   "metadata": {},
   "source": [
    "#### [Crear DataFrame a partir de un fichero JSON](https://pandas.pydata.org/docs/reference/api/pandas.read_json.html)"
   ]
  },
  {
   "cell_type": "code",
   "execution_count": 38,
   "id": "752d1405",
   "metadata": {},
   "outputs": [
    {
     "data": {
      "text/html": [
       "<div>\n",
       "<style scoped>\n",
       "    .dataframe tbody tr th:only-of-type {\n",
       "        vertical-align: middle;\n",
       "    }\n",
       "\n",
       "    .dataframe tbody tr th {\n",
       "        vertical-align: top;\n",
       "    }\n",
       "\n",
       "    .dataframe thead th {\n",
       "        text-align: right;\n",
       "    }\n",
       "</style>\n",
       "<table border=\"1\" class=\"dataframe\">\n",
       "  <thead>\n",
       "    <tr style=\"text-align: right;\">\n",
       "      <th></th>\n",
       "      <th>ciudades</th>\n",
       "      <th>n_churrerias</th>\n",
       "      <th>habitantes</th>\n",
       "    </tr>\n",
       "  </thead>\n",
       "  <tbody>\n",
       "    <tr>\n",
       "      <th>0</th>\n",
       "      <td>Madrid</td>\n",
       "      <td>100</td>\n",
       "      <td>3223000</td>\n",
       "    </tr>\n",
       "    <tr>\n",
       "      <th>1</th>\n",
       "      <td>Huelva</td>\n",
       "      <td>20</td>\n",
       "      <td>144258</td>\n",
       "    </tr>\n",
       "    <tr>\n",
       "      <th>2</th>\n",
       "      <td>Sevilla</td>\n",
       "      <td>50</td>\n",
       "      <td>688711</td>\n",
       "    </tr>\n",
       "    <tr>\n",
       "      <th>3</th>\n",
       "      <td>Barcelona</td>\n",
       "      <td>80</td>\n",
       "      <td>1620000</td>\n",
       "    </tr>\n",
       "    <tr>\n",
       "      <th>4</th>\n",
       "      <td>Bilbao</td>\n",
       "      <td>44</td>\n",
       "      <td>345821</td>\n",
       "    </tr>\n",
       "  </tbody>\n",
       "</table>\n",
       "</div>"
      ],
      "text/plain": [
       "    ciudades  n_churrerias  habitantes\n",
       "0     Madrid           100     3223000\n",
       "1     Huelva            20      144258\n",
       "2    Sevilla            50      688711\n",
       "3  Barcelona            80     1620000\n",
       "4     Bilbao            44      345821"
      ]
     },
     "execution_count": 38,
     "metadata": {},
     "output_type": "execute_result"
    }
   ],
   "source": [
    "df_c = pd.read_json(\"recursos/04_city_data.json\")\n",
    "df_c"
   ]
  },
  {
   "cell_type": "markdown",
   "id": "390ab28a",
   "metadata": {},
   "source": [
    "#### Exportar ficheros"
   ]
  },
  {
   "cell_type": "markdown",
   "id": "bc7758ad",
   "metadata": {},
   "source": [
    "#### [Exportar a CSV](https://pandas.pydata.org/docs/reference/api/pandas.DataFrame.to_csv.html)"
   ]
  },
  {
   "cell_type": "code",
   "execution_count": 39,
   "id": "2c1e88e4",
   "metadata": {},
   "outputs": [],
   "source": [
    "df_c.to_csv(\"output.csv\", sep=\"|\", index=False)"
   ]
  },
  {
   "cell_type": "markdown",
   "id": "b86ba6e4",
   "metadata": {},
   "source": [
    "#### [Exportar a Excel](https://pandas.pydata.org/docs/reference/api/pandas.DataFrame.to_excel.html)"
   ]
  },
  {
   "cell_type": "code",
   "execution_count": 40,
   "id": "e9a6285e",
   "metadata": {},
   "outputs": [],
   "source": [
    "df_c.to_excel(\"output.xlsx\", index=False)"
   ]
  },
  {
   "cell_type": "markdown",
   "id": "8c43ac90",
   "metadata": {},
   "source": [
    "#### [Exportar a JSON](https://pandas.pydata.org/docs/reference/api/pandas.DataFrame.to_json.html)"
   ]
  },
  {
   "cell_type": "code",
   "execution_count": 41,
   "id": "d9cfd767",
   "metadata": {},
   "outputs": [],
   "source": [
    "df_c.to_json(\"output.json\", orient=\"split\", index=False)"
   ]
  },
  {
   "cell_type": "markdown",
   "id": "4c82ef85",
   "metadata": {},
   "source": [
    "### Atributos del DataFrame"
   ]
  },
  {
   "cell_type": "code",
   "execution_count": 42,
   "id": "08176983",
   "metadata": {},
   "outputs": [
    {
     "name": "stdout",
     "output_type": "stream",
     "text": [
      "<class 'pandas.core.frame.DataFrame'>\n",
      "RangeIndex: 5 entries, 0 to 4\n",
      "Data columns (total 3 columns):\n",
      " #   Column        Non-Null Count  Dtype \n",
      "---  ------        --------------  ----- \n",
      " 0   ciudades      5 non-null      object\n",
      " 1   n_churrerias  5 non-null      int64 \n",
      " 2   habitantes    5 non-null      int64 \n",
      "dtypes: int64(2), object(1)\n",
      "memory usage: 248.0+ bytes\n"
     ]
    }
   ],
   "source": [
    "# Información del DataFrame\n",
    "df_c.info()"
   ]
  },
  {
   "cell_type": "code",
   "execution_count": 43,
   "id": "d5556a1c",
   "metadata": {},
   "outputs": [
    {
     "data": {
      "text/plain": [
       "(5, 3)"
      ]
     },
     "execution_count": 43,
     "metadata": {},
     "output_type": "execute_result"
    }
   ],
   "source": [
    "# Número de filas y columnas\n",
    "df_c.shape"
   ]
  },
  {
   "cell_type": "code",
   "execution_count": 44,
   "id": "471d8ea9",
   "metadata": {},
   "outputs": [
    {
     "data": {
      "text/plain": [
       "15"
      ]
     },
     "execution_count": 44,
     "metadata": {},
     "output_type": "execute_result"
    }
   ],
   "source": [
    "# Número de elementos\n",
    "df_c.size"
   ]
  },
  {
   "cell_type": "code",
   "execution_count": 45,
   "id": "24735d4f",
   "metadata": {},
   "outputs": [
    {
     "data": {
      "text/plain": [
       "Index(['ciudades', 'n_churrerias', 'habitantes'], dtype='object')"
      ]
     },
     "execution_count": 45,
     "metadata": {},
     "output_type": "execute_result"
    }
   ],
   "source": [
    "# Nombre de las columnas\n",
    "df_c.columns"
   ]
  },
  {
   "cell_type": "code",
   "execution_count": 46,
   "id": "40cbf179",
   "metadata": {},
   "outputs": [
    {
     "data": {
      "text/plain": [
       "RangeIndex(start=0, stop=5, step=1)"
      ]
     },
     "execution_count": 46,
     "metadata": {},
     "output_type": "execute_result"
    }
   ],
   "source": [
    "# Nombre de las filas\n",
    "df_c.index"
   ]
  },
  {
   "cell_type": "code",
   "execution_count": 47,
   "id": "0ee53340",
   "metadata": {},
   "outputs": [
    {
     "data": {
      "text/plain": [
       "ciudades        object\n",
       "n_churrerias     int64\n",
       "habitantes       int64\n",
       "dtype: object"
      ]
     },
     "execution_count": 47,
     "metadata": {},
     "output_type": "execute_result"
    }
   ],
   "source": [
    "# Tipos de las columnas\n",
    "df_c.dtypes"
   ]
  },
  {
   "cell_type": "code",
   "execution_count": 48,
   "id": "0c43c042",
   "metadata": {},
   "outputs": [
    {
     "data": {
      "text/html": [
       "<div>\n",
       "<style scoped>\n",
       "    .dataframe tbody tr th:only-of-type {\n",
       "        vertical-align: middle;\n",
       "    }\n",
       "\n",
       "    .dataframe tbody tr th {\n",
       "        vertical-align: top;\n",
       "    }\n",
       "\n",
       "    .dataframe thead th {\n",
       "        text-align: right;\n",
       "    }\n",
       "</style>\n",
       "<table border=\"1\" class=\"dataframe\">\n",
       "  <thead>\n",
       "    <tr style=\"text-align: right;\">\n",
       "      <th></th>\n",
       "      <th>ciudades</th>\n",
       "      <th>n_churrerias</th>\n",
       "      <th>habitantes</th>\n",
       "    </tr>\n",
       "  </thead>\n",
       "  <tbody>\n",
       "    <tr>\n",
       "      <th>0</th>\n",
       "      <td>Madrid</td>\n",
       "      <td>100</td>\n",
       "      <td>3223000</td>\n",
       "    </tr>\n",
       "    <tr>\n",
       "      <th>1</th>\n",
       "      <td>Huelva</td>\n",
       "      <td>20</td>\n",
       "      <td>144258</td>\n",
       "    </tr>\n",
       "  </tbody>\n",
       "</table>\n",
       "</div>"
      ],
      "text/plain": [
       "  ciudades  n_churrerias  habitantes\n",
       "0   Madrid           100     3223000\n",
       "1   Huelva            20      144258"
      ]
     },
     "execution_count": 48,
     "metadata": {},
     "output_type": "execute_result"
    }
   ],
   "source": [
    "# Devuelve las n primeras filas\n",
    "df_c.head(2)"
   ]
  },
  {
   "cell_type": "code",
   "execution_count": 49,
   "id": "0aac0de2",
   "metadata": {},
   "outputs": [
    {
     "data": {
      "text/html": [
       "<div>\n",
       "<style scoped>\n",
       "    .dataframe tbody tr th:only-of-type {\n",
       "        vertical-align: middle;\n",
       "    }\n",
       "\n",
       "    .dataframe tbody tr th {\n",
       "        vertical-align: top;\n",
       "    }\n",
       "\n",
       "    .dataframe thead th {\n",
       "        text-align: right;\n",
       "    }\n",
       "</style>\n",
       "<table border=\"1\" class=\"dataframe\">\n",
       "  <thead>\n",
       "    <tr style=\"text-align: right;\">\n",
       "      <th></th>\n",
       "      <th>ciudades</th>\n",
       "      <th>n_churrerias</th>\n",
       "      <th>habitantes</th>\n",
       "    </tr>\n",
       "  </thead>\n",
       "  <tbody>\n",
       "    <tr>\n",
       "      <th>3</th>\n",
       "      <td>Barcelona</td>\n",
       "      <td>80</td>\n",
       "      <td>1620000</td>\n",
       "    </tr>\n",
       "    <tr>\n",
       "      <th>4</th>\n",
       "      <td>Bilbao</td>\n",
       "      <td>44</td>\n",
       "      <td>345821</td>\n",
       "    </tr>\n",
       "  </tbody>\n",
       "</table>\n",
       "</div>"
      ],
      "text/plain": [
       "    ciudades  n_churrerias  habitantes\n",
       "3  Barcelona            80     1620000\n",
       "4     Bilbao            44      345821"
      ]
     },
     "execution_count": 49,
     "metadata": {},
     "output_type": "execute_result"
    }
   ],
   "source": [
    "# Devuelve las n últimas filas\n",
    "df_c.tail(2)"
   ]
  },
  {
   "cell_type": "markdown",
   "id": "acbac21d",
   "metadata": {},
   "source": [
    "### Renombrar filas y columnas"
   ]
  },
  {
   "cell_type": "markdown",
   "id": "f907ca37",
   "metadata": {},
   "source": [
    "#### [pd.rename](https://pandas.pydata.org/docs/reference/api/pandas.DataFrame.rename.html)\n",
    "\n",
    "Podemos usar un diccionario y el método de pandas rename para cambiar el nombre de las filas o columnas"
   ]
  },
  {
   "cell_type": "code",
   "execution_count": 50,
   "id": "3183cc82",
   "metadata": {},
   "outputs": [
    {
     "data": {
      "text/html": [
       "<div>\n",
       "<style scoped>\n",
       "    .dataframe tbody tr th:only-of-type {\n",
       "        vertical-align: middle;\n",
       "    }\n",
       "\n",
       "    .dataframe tbody tr th {\n",
       "        vertical-align: top;\n",
       "    }\n",
       "\n",
       "    .dataframe thead th {\n",
       "        text-align: right;\n",
       "    }\n",
       "</style>\n",
       "<table border=\"1\" class=\"dataframe\">\n",
       "  <thead>\n",
       "    <tr style=\"text-align: right;\">\n",
       "      <th></th>\n",
       "      <th>cities</th>\n",
       "      <th>n_churrerias</th>\n",
       "      <th>habitantes</th>\n",
       "    </tr>\n",
       "  </thead>\n",
       "  <tbody>\n",
       "    <tr>\n",
       "      <th>0</th>\n",
       "      <td>Madrid</td>\n",
       "      <td>100</td>\n",
       "      <td>3223000</td>\n",
       "    </tr>\n",
       "    <tr>\n",
       "      <th>1</th>\n",
       "      <td>Huelva</td>\n",
       "      <td>20</td>\n",
       "      <td>144258</td>\n",
       "    </tr>\n",
       "    <tr>\n",
       "      <th>2</th>\n",
       "      <td>Sevilla</td>\n",
       "      <td>50</td>\n",
       "      <td>688711</td>\n",
       "    </tr>\n",
       "    <tr>\n",
       "      <th>3</th>\n",
       "      <td>Barcelona</td>\n",
       "      <td>80</td>\n",
       "      <td>1620000</td>\n",
       "    </tr>\n",
       "    <tr>\n",
       "      <th>4</th>\n",
       "      <td>Bilbao</td>\n",
       "      <td>44</td>\n",
       "      <td>345821</td>\n",
       "    </tr>\n",
       "  </tbody>\n",
       "</table>\n",
       "</div>"
      ],
      "text/plain": [
       "      cities  n_churrerias  habitantes\n",
       "0     Madrid           100     3223000\n",
       "1     Huelva            20      144258\n",
       "2    Sevilla            50      688711\n",
       "3  Barcelona            80     1620000\n",
       "4     Bilbao            44      345821"
      ]
     },
     "execution_count": 50,
     "metadata": {},
     "output_type": "execute_result"
    }
   ],
   "source": [
    "df_c.rename(columns= {\"ciudades\": \"cities\"})"
   ]
  },
  {
   "cell_type": "code",
   "execution_count": 51,
   "id": "5fb5c188",
   "metadata": {},
   "outputs": [
    {
     "data": {
      "text/html": [
       "<div>\n",
       "<style scoped>\n",
       "    .dataframe tbody tr th:only-of-type {\n",
       "        vertical-align: middle;\n",
       "    }\n",
       "\n",
       "    .dataframe tbody tr th {\n",
       "        vertical-align: top;\n",
       "    }\n",
       "\n",
       "    .dataframe thead th {\n",
       "        text-align: right;\n",
       "    }\n",
       "</style>\n",
       "<table border=\"1\" class=\"dataframe\">\n",
       "  <thead>\n",
       "    <tr style=\"text-align: right;\">\n",
       "      <th></th>\n",
       "      <th>CIUDADES</th>\n",
       "      <th>N_CHURRERIAS</th>\n",
       "      <th>HABITANTES</th>\n",
       "    </tr>\n",
       "  </thead>\n",
       "  <tbody>\n",
       "    <tr>\n",
       "      <th>0</th>\n",
       "      <td>Madrid</td>\n",
       "      <td>100</td>\n",
       "      <td>3223000</td>\n",
       "    </tr>\n",
       "    <tr>\n",
       "      <th>1</th>\n",
       "      <td>Huelva</td>\n",
       "      <td>20</td>\n",
       "      <td>144258</td>\n",
       "    </tr>\n",
       "    <tr>\n",
       "      <th>2</th>\n",
       "      <td>Sevilla</td>\n",
       "      <td>50</td>\n",
       "      <td>688711</td>\n",
       "    </tr>\n",
       "    <tr>\n",
       "      <th>3</th>\n",
       "      <td>Barcelona</td>\n",
       "      <td>80</td>\n",
       "      <td>1620000</td>\n",
       "    </tr>\n",
       "    <tr>\n",
       "      <th>4</th>\n",
       "      <td>Bilbao</td>\n",
       "      <td>44</td>\n",
       "      <td>345821</td>\n",
       "    </tr>\n",
       "  </tbody>\n",
       "</table>\n",
       "</div>"
      ],
      "text/plain": [
       "    CIUDADES  N_CHURRERIAS  HABITANTES\n",
       "0     Madrid           100     3223000\n",
       "1     Huelva            20      144258\n",
       "2    Sevilla            50      688711\n",
       "3  Barcelona            80     1620000\n",
       "4     Bilbao            44      345821"
      ]
     },
     "execution_count": 51,
     "metadata": {},
     "output_type": "execute_result"
    }
   ],
   "source": [
    "df_c.rename(str.upper, axis=\"columns\")"
   ]
  },
  {
   "cell_type": "code",
   "execution_count": 52,
   "id": "c10e3733",
   "metadata": {},
   "outputs": [
    {
     "data": {
      "text/html": [
       "<div>\n",
       "<style scoped>\n",
       "    .dataframe tbody tr th:only-of-type {\n",
       "        vertical-align: middle;\n",
       "    }\n",
       "\n",
       "    .dataframe tbody tr th {\n",
       "        vertical-align: top;\n",
       "    }\n",
       "\n",
       "    .dataframe thead th {\n",
       "        text-align: right;\n",
       "    }\n",
       "</style>\n",
       "<table border=\"1\" class=\"dataframe\">\n",
       "  <thead>\n",
       "    <tr style=\"text-align: right;\">\n",
       "      <th></th>\n",
       "      <th>ciudades</th>\n",
       "      <th>n_churrerias</th>\n",
       "      <th>habitantes</th>\n",
       "    </tr>\n",
       "  </thead>\n",
       "  <tbody>\n",
       "    <tr>\n",
       "      <th>M</th>\n",
       "      <td>Madrid</td>\n",
       "      <td>100</td>\n",
       "      <td>3223000</td>\n",
       "    </tr>\n",
       "    <tr>\n",
       "      <th>HU</th>\n",
       "      <td>Huelva</td>\n",
       "      <td>20</td>\n",
       "      <td>144258</td>\n",
       "    </tr>\n",
       "    <tr>\n",
       "      <th>SE</th>\n",
       "      <td>Sevilla</td>\n",
       "      <td>50</td>\n",
       "      <td>688711</td>\n",
       "    </tr>\n",
       "    <tr>\n",
       "      <th>B</th>\n",
       "      <td>Barcelona</td>\n",
       "      <td>80</td>\n",
       "      <td>1620000</td>\n",
       "    </tr>\n",
       "    <tr>\n",
       "      <th>BI</th>\n",
       "      <td>Bilbao</td>\n",
       "      <td>44</td>\n",
       "      <td>345821</td>\n",
       "    </tr>\n",
       "  </tbody>\n",
       "</table>\n",
       "</div>"
      ],
      "text/plain": [
       "     ciudades  n_churrerias  habitantes\n",
       "M      Madrid           100     3223000\n",
       "HU     Huelva            20      144258\n",
       "SE    Sevilla            50      688711\n",
       "B   Barcelona            80     1620000\n",
       "BI     Bilbao            44      345821"
      ]
     },
     "execution_count": 52,
     "metadata": {},
     "output_type": "execute_result"
    }
   ],
   "source": [
    "df_c.rename({0: \"M\", 1:\"HU\", 2:\"SE\", 3:\"B\", 4:\"BI\"})"
   ]
  },
  {
   "cell_type": "markdown",
   "id": "9c1c0a17",
   "metadata": {},
   "source": [
    "#### Utilizando una lista para renombrar columnas e indices"
   ]
  },
  {
   "cell_type": "code",
   "execution_count": 54,
   "id": "1078570a",
   "metadata": {},
   "outputs": [
    {
     "data": {
      "text/html": [
       "<div>\n",
       "<style scoped>\n",
       "    .dataframe tbody tr th:only-of-type {\n",
       "        vertical-align: middle;\n",
       "    }\n",
       "\n",
       "    .dataframe tbody tr th {\n",
       "        vertical-align: top;\n",
       "    }\n",
       "\n",
       "    .dataframe thead th {\n",
       "        text-align: right;\n",
       "    }\n",
       "</style>\n",
       "<table border=\"1\" class=\"dataframe\">\n",
       "  <thead>\n",
       "    <tr style=\"text-align: right;\">\n",
       "      <th></th>\n",
       "      <th>ciudades</th>\n",
       "      <th>n_churrerias</th>\n",
       "      <th>poblacion</th>\n",
       "    </tr>\n",
       "  </thead>\n",
       "  <tbody>\n",
       "    <tr>\n",
       "      <th>0</th>\n",
       "      <td>Madrid</td>\n",
       "      <td>100</td>\n",
       "      <td>3223000</td>\n",
       "    </tr>\n",
       "    <tr>\n",
       "      <th>1</th>\n",
       "      <td>Huelva</td>\n",
       "      <td>20</td>\n",
       "      <td>144258</td>\n",
       "    </tr>\n",
       "    <tr>\n",
       "      <th>2</th>\n",
       "      <td>Sevilla</td>\n",
       "      <td>50</td>\n",
       "      <td>688711</td>\n",
       "    </tr>\n",
       "    <tr>\n",
       "      <th>3</th>\n",
       "      <td>Barcelona</td>\n",
       "      <td>80</td>\n",
       "      <td>1620000</td>\n",
       "    </tr>\n",
       "    <tr>\n",
       "      <th>4</th>\n",
       "      <td>Bilbao</td>\n",
       "      <td>44</td>\n",
       "      <td>345821</td>\n",
       "    </tr>\n",
       "  </tbody>\n",
       "</table>\n",
       "</div>"
      ],
      "text/plain": [
       "    ciudades  n_churrerias  poblacion\n",
       "0     Madrid           100    3223000\n",
       "1     Huelva            20     144258\n",
       "2    Sevilla            50     688711\n",
       "3  Barcelona            80    1620000\n",
       "4     Bilbao            44     345821"
      ]
     },
     "execution_count": 54,
     "metadata": {},
     "output_type": "execute_result"
    }
   ],
   "source": [
    "df_c.columns = [\"ciudades\", \"n_churrerias\", \"poblacion\"]\n",
    "df_c"
   ]
  },
  {
   "cell_type": "code",
   "execution_count": 56,
   "id": "815d6360",
   "metadata": {},
   "outputs": [
    {
     "data": {
      "text/html": [
       "<div>\n",
       "<style scoped>\n",
       "    .dataframe tbody tr th:only-of-type {\n",
       "        vertical-align: middle;\n",
       "    }\n",
       "\n",
       "    .dataframe tbody tr th {\n",
       "        vertical-align: top;\n",
       "    }\n",
       "\n",
       "    .dataframe thead th {\n",
       "        text-align: right;\n",
       "    }\n",
       "</style>\n",
       "<table border=\"1\" class=\"dataframe\">\n",
       "  <thead>\n",
       "    <tr style=\"text-align: right;\">\n",
       "      <th></th>\n",
       "      <th>ciudades</th>\n",
       "      <th>n_churrerias</th>\n",
       "      <th>poblacion</th>\n",
       "    </tr>\n",
       "  </thead>\n",
       "  <tbody>\n",
       "    <tr>\n",
       "      <th>M</th>\n",
       "      <td>Madrid</td>\n",
       "      <td>100</td>\n",
       "      <td>3223000</td>\n",
       "    </tr>\n",
       "    <tr>\n",
       "      <th>HU</th>\n",
       "      <td>Huelva</td>\n",
       "      <td>20</td>\n",
       "      <td>144258</td>\n",
       "    </tr>\n",
       "    <tr>\n",
       "      <th>SE</th>\n",
       "      <td>Sevilla</td>\n",
       "      <td>50</td>\n",
       "      <td>688711</td>\n",
       "    </tr>\n",
       "    <tr>\n",
       "      <th>B</th>\n",
       "      <td>Barcelona</td>\n",
       "      <td>80</td>\n",
       "      <td>1620000</td>\n",
       "    </tr>\n",
       "    <tr>\n",
       "      <th>BI</th>\n",
       "      <td>Bilbao</td>\n",
       "      <td>44</td>\n",
       "      <td>345821</td>\n",
       "    </tr>\n",
       "  </tbody>\n",
       "</table>\n",
       "</div>"
      ],
      "text/plain": [
       "     ciudades  n_churrerias  poblacion\n",
       "M      Madrid           100    3223000\n",
       "HU     Huelva            20     144258\n",
       "SE    Sevilla            50     688711\n",
       "B   Barcelona            80    1620000\n",
       "BI     Bilbao            44     345821"
      ]
     },
     "execution_count": 56,
     "metadata": {},
     "output_type": "execute_result"
    }
   ],
   "source": [
    "df_c.index = [\"M\", \"HU\", \"SE\", \"B\", \"BI\"]\n",
    "df_c"
   ]
  },
  {
   "cell_type": "markdown",
   "id": "c5b9a177",
   "metadata": {},
   "source": [
    "### Acceder a los elementos de un DataFrame"
   ]
  },
  {
   "cell_type": "markdown",
   "id": "d3a08171",
   "metadata": {},
   "source": [
    "#### Por número entero"
   ]
  },
  {
   "cell_type": "code",
   "execution_count": 60,
   "id": "b8bbb4a0",
   "metadata": {},
   "outputs": [
    {
     "data": {
      "text/plain": [
       "'Bilbao'"
      ]
     },
     "execution_count": 60,
     "metadata": {},
     "output_type": "execute_result"
    }
   ],
   "source": [
    "df_c.iloc[4,0]"
   ]
  },
  {
   "cell_type": "code",
   "execution_count": 61,
   "id": "9511011b",
   "metadata": {},
   "outputs": [
    {
     "data": {
      "text/plain": [
       "HU     144258\n",
       "SE     688711\n",
       "B     1620000\n",
       "BI     345821\n",
       "Name: poblacion, dtype: int64"
      ]
     },
     "execution_count": 61,
     "metadata": {},
     "output_type": "execute_result"
    }
   ],
   "source": [
    "df_c.iloc[1:, 2]"
   ]
  },
  {
   "cell_type": "code",
   "execution_count": 62,
   "id": "eaca33a5",
   "metadata": {},
   "outputs": [
    {
     "data": {
      "text/plain": [
       "ciudades        Sevilla\n",
       "n_churrerias         50\n",
       "poblacion        688711\n",
       "Name: SE, dtype: object"
      ]
     },
     "execution_count": 62,
     "metadata": {},
     "output_type": "execute_result"
    }
   ],
   "source": [
    "df_c.iloc[2]"
   ]
  },
  {
   "cell_type": "markdown",
   "id": "83e687ce",
   "metadata": {},
   "source": [
    "#### Por nombres"
   ]
  },
  {
   "cell_type": "code",
   "execution_count": 64,
   "id": "908a1e7c",
   "metadata": {},
   "outputs": [
    {
     "data": {
      "text/html": [
       "<div>\n",
       "<style scoped>\n",
       "    .dataframe tbody tr th:only-of-type {\n",
       "        vertical-align: middle;\n",
       "    }\n",
       "\n",
       "    .dataframe tbody tr th {\n",
       "        vertical-align: top;\n",
       "    }\n",
       "\n",
       "    .dataframe thead th {\n",
       "        text-align: right;\n",
       "    }\n",
       "</style>\n",
       "<table border=\"1\" class=\"dataframe\">\n",
       "  <thead>\n",
       "    <tr style=\"text-align: right;\">\n",
       "      <th></th>\n",
       "      <th>poblacion</th>\n",
       "    </tr>\n",
       "  </thead>\n",
       "  <tbody>\n",
       "    <tr>\n",
       "      <th>SE</th>\n",
       "      <td>688711</td>\n",
       "    </tr>\n",
       "    <tr>\n",
       "      <th>B</th>\n",
       "      <td>1620000</td>\n",
       "    </tr>\n",
       "  </tbody>\n",
       "</table>\n",
       "</div>"
      ],
      "text/plain": [
       "    poblacion\n",
       "SE     688711\n",
       "B     1620000"
      ]
     },
     "execution_count": 64,
     "metadata": {},
     "output_type": "execute_result"
    }
   ],
   "source": [
    "df_c.loc[[\"SE\",\"B\"], [\"poblacion\"]]"
   ]
  },
  {
   "cell_type": "code",
   "execution_count": 65,
   "id": "89c9e653",
   "metadata": {},
   "outputs": [
    {
     "data": {
      "text/plain": [
       "M     100\n",
       "HU     20\n",
       "SE     50\n",
       "B      80\n",
       "BI     44\n",
       "Name: n_churrerias, dtype: int64"
      ]
     },
     "execution_count": 65,
     "metadata": {},
     "output_type": "execute_result"
    }
   ],
   "source": [
    "df_c[\"n_churrerias\"]"
   ]
  },
  {
   "cell_type": "markdown",
   "id": "62deb02c",
   "metadata": {},
   "source": [
    "### Añadir columnas"
   ]
  },
  {
   "cell_type": "code",
   "execution_count": 66,
   "id": "5d62ffad",
   "metadata": {},
   "outputs": [
    {
     "data": {
      "text/html": [
       "<div>\n",
       "<style scoped>\n",
       "    .dataframe tbody tr th:only-of-type {\n",
       "        vertical-align: middle;\n",
       "    }\n",
       "\n",
       "    .dataframe tbody tr th {\n",
       "        vertical-align: top;\n",
       "    }\n",
       "\n",
       "    .dataframe thead th {\n",
       "        text-align: right;\n",
       "    }\n",
       "</style>\n",
       "<table border=\"1\" class=\"dataframe\">\n",
       "  <thead>\n",
       "    <tr style=\"text-align: right;\">\n",
       "      <th></th>\n",
       "      <th>ciudades</th>\n",
       "      <th>n_churrerias</th>\n",
       "      <th>poblacion</th>\n",
       "      <th>rios</th>\n",
       "    </tr>\n",
       "  </thead>\n",
       "  <tbody>\n",
       "    <tr>\n",
       "      <th>M</th>\n",
       "      <td>Madrid</td>\n",
       "      <td>100</td>\n",
       "      <td>3223000</td>\n",
       "      <td>1.0</td>\n",
       "    </tr>\n",
       "    <tr>\n",
       "      <th>HU</th>\n",
       "      <td>Huelva</td>\n",
       "      <td>20</td>\n",
       "      <td>144258</td>\n",
       "      <td>2.0</td>\n",
       "    </tr>\n",
       "    <tr>\n",
       "      <th>SE</th>\n",
       "      <td>Sevilla</td>\n",
       "      <td>50</td>\n",
       "      <td>688711</td>\n",
       "      <td>1.0</td>\n",
       "    </tr>\n",
       "    <tr>\n",
       "      <th>B</th>\n",
       "      <td>Barcelona</td>\n",
       "      <td>80</td>\n",
       "      <td>1620000</td>\n",
       "      <td>0.0</td>\n",
       "    </tr>\n",
       "    <tr>\n",
       "      <th>BI</th>\n",
       "      <td>Bilbao</td>\n",
       "      <td>44</td>\n",
       "      <td>345821</td>\n",
       "      <td>NaN</td>\n",
       "    </tr>\n",
       "  </tbody>\n",
       "</table>\n",
       "</div>"
      ],
      "text/plain": [
       "     ciudades  n_churrerias  poblacion  rios\n",
       "M      Madrid           100    3223000   1.0\n",
       "HU     Huelva            20     144258   2.0\n",
       "SE    Sevilla            50     688711   1.0\n",
       "B   Barcelona            80    1620000   0.0\n",
       "BI     Bilbao            44     345821   NaN"
      ]
     },
     "execution_count": 66,
     "metadata": {},
     "output_type": "execute_result"
    }
   ],
   "source": [
    "df_c[\"rios\"] = [1, 2, 1, 0, np.NaN]\n",
    "df_c"
   ]
  },
  {
   "cell_type": "markdown",
   "id": "86f85595",
   "metadata": {},
   "source": [
    "### Operaciones con columnas\n",
    "Como las columnas de un DataFrame son series, podremos aplicar las mismas operaciones que con las series"
   ]
  },
  {
   "cell_type": "raw",
   "id": "c525a202",
   "metadata": {},
   "source": [
    "\n",
    "\n",
    "4. DataFrame\n",
    "\n",
    "Crear DataFrame, leer datos de csv, excel, json, sql..., exportación de ficheros en csv, excel... atributos de un DataFrame, modificación de nombres de filas, indice y columnas, acceder al contenido del DataFrame, acceder mediante nombres, añadir columnas, operaciones sobre columnas, aplicar funciones a columnas, tipos de datos de columnas, estadisticos descriptivos, como trabajar con columnas de tipo cadena, eliminar columnas, añadir filas, añadir columnas, concatenar dataframes, eliminar filas, eliminar columnas, filtrar elementos, ordenar dataframe, eliminar NaNs, groupby, melt, pivot, pivot_table, astype, iterrows, isin,  mask, value_counts, drop_duplicates, duplicated, rename, fillna, dropna, ffill, isna, notna, replace, T, merge, join, \n",
    "\n",
    "plots\n",
    "\n",
    "5. Práctica\n",
    "\n",
    "6. Para saber más\n",
    "\n",
    "https://pandas.pydata.org/docs/"
   ]
  },
  {
   "cell_type": "code",
   "execution_count": null,
   "id": "7fb96550",
   "metadata": {},
   "outputs": [],
   "source": []
  },
  {
   "cell_type": "code",
   "execution_count": null,
   "id": "8312d989",
   "metadata": {},
   "outputs": [],
   "source": []
  },
  {
   "cell_type": "code",
   "execution_count": null,
   "id": "b96aeedb",
   "metadata": {},
   "outputs": [],
   "source": []
  },
  {
   "cell_type": "code",
   "execution_count": null,
   "id": "e34b3d56",
   "metadata": {},
   "outputs": [],
   "source": []
  }
 ],
 "metadata": {
  "kernelspec": {
   "display_name": "Python 3 (ipykernel)",
   "language": "python",
   "name": "python3"
  },
  "language_info": {
   "codemirror_mode": {
    "name": "ipython",
    "version": 3
   },
   "file_extension": ".py",
   "mimetype": "text/x-python",
   "name": "python",
   "nbconvert_exporter": "python",
   "pygments_lexer": "ipython3",
   "version": "3.10.6"
  }
 },
 "nbformat": 4,
 "nbformat_minor": 5
}
